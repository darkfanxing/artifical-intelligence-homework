{
 "cells": [
  {
   "cell_type": "code",
   "execution_count": 1,
   "metadata": {},
   "outputs": [],
   "source": [
    "import numpy as np\n"
   ]
  },
  {
   "cell_type": "code",
   "execution_count": 2,
   "metadata": {
    "tags": []
   },
   "outputs": [],
   "source": [
    "# step 1: load data\n",
    "\n",
    "iris_data = np.loadtxt('../dataset/iris.txt')"
   ]
  },
  {
   "cell_type": "code",
   "execution_count": 3,
   "metadata": {
    "tags": []
   },
   "outputs": [],
   "source": [
    "# step 2: split the data in training data and test data\n",
    "\n",
    "from utility import split_data\n",
    "x_train, y_train, x_test, y_test = split_data(iris_data[:, :4], iris_data[:, 4])"
   ]
  },
  {
   "cell_type": "code",
   "execution_count": 4,
   "metadata": {
    "tags": []
   },
   "outputs": [
    {
     "output_type": "error",
     "ename": "NameError",
     "evalue": "name 'i' is not defined",
     "traceback": [
      "\u001b[0;31m---------------------------------------------------------------------------\u001b[0m",
      "\u001b[0;31mNameError\u001b[0m                                 Traceback (most recent call last)",
      "\u001b[0;32m<ipython-input-4-ce07b1d21dec>\u001b[0m in \u001b[0;36m<module>\u001b[0;34m\u001b[0m\n\u001b[1;32m     45\u001b[0m \u001b[0;34m\u001b[0m\u001b[0m\n\u001b[1;32m     46\u001b[0m \u001b[0;32mfor\u001b[0m \u001b[0mfeature_index\u001b[0m \u001b[0;32min\u001b[0m \u001b[0mrange\u001b[0m\u001b[0;34m(\u001b[0m\u001b[0mlen\u001b[0m\u001b[0;34m(\u001b[0m\u001b[0mfisher_score\u001b[0m\u001b[0;34m)\u001b[0m\u001b[0;34m)\u001b[0m\u001b[0;34m:\u001b[0m\u001b[0;34m\u001b[0m\u001b[0;34m\u001b[0m\u001b[0m\n\u001b[0;32m---> 47\u001b[0;31m     \u001b[0mprint\u001b[0m\u001b[0;34m(\u001b[0m\u001b[0;34m\"The feature {}'s fisher score is: {}\"\u001b[0m\u001b[0;34m.\u001b[0m\u001b[0mformat\u001b[0m\u001b[0;34m(\u001b[0m\u001b[0mfeature_index\u001b[0m \u001b[0;34m+\u001b[0m \u001b[0;36m1\u001b[0m\u001b[0;34m,\u001b[0m \u001b[0mfisher_score\u001b[0m\u001b[0;34m[\u001b[0m\u001b[0mi\u001b[0m\u001b[0;34m]\u001b[0m\u001b[0;34m)\u001b[0m\u001b[0;34m)\u001b[0m\u001b[0;34m\u001b[0m\u001b[0;34m\u001b[0m\u001b[0m\n\u001b[0m",
      "\u001b[0;31mNameError\u001b[0m: name 'i' is not defined"
     ]
    }
   ],
   "source": [
    "# step 3-1: calculate within-class scatter and between-class scatter of training set and calculate Fisher's score\n",
    "\n",
    "class Performance_index():\n",
    "    def __init__(self, data):\n",
    "        self.data = data\n",
    "\n",
    "    def get_fisher_score(self):\n",
    "        within_class_scatter = self.get_between_class_scatter()\n",
    "        between_class_scatter = self.get_between_class_scatter()\n",
    "\n",
    "        performance_index = self.get_between_class_scatter() / self.get_within_class_scatter()\n",
    "        fisher_score = [performance_index[index, index] for index in range(performance_index.shape[0])]\n",
    "        \n",
    "        return fisher_score\n",
    "    \n",
    "    def get_within_class_scatter(self):\n",
    "        within_class_scatter = 0\n",
    "        for class_data in [self.data[:, :25], self.data[:, 25:50], self.data[:, 50:75]]:\n",
    "            prior_probability = class_data.shape[1] / self.data.shape[1]\n",
    "            data_count = class_data.shape[1]\n",
    "            mean_vector = np.mean(class_data, axis=1)\n",
    "            # print(mean_vector.shape)\n",
    "\n",
    "            data_scatter = 0\n",
    "            for data_index in range(data_count):\n",
    "                data_minus_mean_vector = np.expand_dims((class_data[:, data_index] - mean_vector), axis=1)\n",
    "                data_scatter += data_minus_mean_vector.dot(data_minus_mean_vector.T)\n",
    "            \n",
    "            within_class_scatter += data_scatter * prior_probability / data_count\n",
    "\n",
    "        return within_class_scatter\n",
    "\n",
    "    def get_between_class_scatter(self):\n",
    "        between_class_scatter = 0\n",
    "        mean_vector = np.expand_dims(self.data.mean(axis=1), axis=1)\n",
    "        for class_data in [self.data[:, :25], self.data[:, 25:50], self.data[:, 50:75]]:\n",
    "            prior_probability = class_data.shape[1] / self.data.shape[1]\n",
    "            class_mean_vector = np.expand_dims(class_data.mean(axis=1), axis=1)\n",
    "            between_class_scatter += (class_mean_vector - mean_vector).dot((class_mean_vector - mean_vector).T)\n",
    "        \n",
    "        return  prior_probability * between_class_scatter\n",
    "\n",
    "performance_index = Performance_index(x_train.T)\n",
    "fisher_score = performance_index.get_fisher_score()\n",
    "\n",
    "for feature_index in range(len(fisher_score)):\n",
    "    print(\"The feature {}'s fisher score is: {}\".format(feature_index + 1, fisher_score[i]))"
   ]
  },
  {
   "cell_type": "code",
   "execution_count": 5,
   "metadata": {
    "tags": []
   },
   "outputs": [
    {
     "output_type": "stream",
     "name": "stdout",
     "text": "When use top-1 features, accuracy is: 0.9199999999999999\nWhen use top-2 features, accuracy is: 0.9533333333333334\nWhen use top-3 features, accuracy is: 0.9533333333333334\nWhen use top-4 features, accuracy is: 0.94\n"
    }
   ],
   "source": [
    "# step 4 ~ 7 take top-X features, calc average accuracy by using K-NN model with two-fold cross validation\n",
    "\n",
    "from utility import get_model_accuracy\n",
    "\n",
    "feature_rank = [sorted(fisher_score).index(x) for x in fisher_score][::-1]\n",
    "for rank_index in range(len(feature_rank)):\n",
    "    rank_index += 1\n",
    "    selected_features = feature_rank[:rank_index]\n",
    "    accuracy = get_model_accuracy(x_train[:, selected_features], y_train, x_test[:, selected_features], y_test)\n",
    "    print(\"When use top-{} features, accuracy is: {}\".format(rank_index, accuracy))"
   ]
  }
 ],
 "metadata": {
  "language_info": {
   "codemirror_mode": {
    "name": "ipython",
    "version": 3
   },
   "file_extension": ".py",
   "mimetype": "text/x-python",
   "name": "python",
   "nbconvert_exporter": "python",
   "pygments_lexer": "ipython3",
   "version": "3.6.9-final"
  },
  "orig_nbformat": 2,
  "kernelspec": {
   "name": "python36964bitb4eb146350b840a7958bfc2df089f7ec",
   "display_name": "Python 3.6.9 64-bit"
  }
 },
 "nbformat": 4,
 "nbformat_minor": 2
}